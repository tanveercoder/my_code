{
 "cells": [
  {
   "cell_type": "code",
   "execution_count": 6,
   "id": "3dc3ba9f",
   "metadata": {},
   "outputs": [],
   "source": [
    "from joblib import dump, load\n",
    "import numpy as np\n",
    "model=load(\"Real.joblib\")"
   ]
  },
  {
   "cell_type": "code",
   "execution_count": 7,
   "id": "7c87cfb6",
   "metadata": {},
   "outputs": [],
   "source": [
    "features=np.array([ [1.76329132, -0.4898311 ,  0.98336806, -0.27288841,  0.96749915,\n",
    "       -0.08458013,  1.09697304, -1.12576063,  1.63579367,  1.50571521,\n",
    "        0.81196637,  0.42050096,  1.24376169]])"
   ]
  },
  {
   "cell_type": "code",
   "execution_count": 8,
   "id": "a8c1d26b",
   "metadata": {},
   "outputs": [
    {
     "data": {
      "text/plain": [
       "array([11.635])"
      ]
     },
     "execution_count": 8,
     "metadata": {},
     "output_type": "execute_result"
    }
   ],
   "source": [
    "model.predict(features)"
   ]
  },
  {
   "cell_type": "code",
   "execution_count": null,
   "id": "7de10147",
   "metadata": {},
   "outputs": [],
   "source": []
  },
  {
   "cell_type": "code",
   "execution_count": null,
   "id": "bb28bcfe",
   "metadata": {},
   "outputs": [],
   "source": []
  }
 ],
 "metadata": {
  "kernelspec": {
   "display_name": "Python 3 (ipykernel)",
   "language": "python",
   "name": "python3"
  },
  "language_info": {
   "codemirror_mode": {
    "name": "ipython",
    "version": 3
   },
   "file_extension": ".py",
   "mimetype": "text/x-python",
   "name": "python",
   "nbconvert_exporter": "python",
   "pygments_lexer": "ipython3",
   "version": "3.11.1"
  }
 },
 "nbformat": 4,
 "nbformat_minor": 5
}
